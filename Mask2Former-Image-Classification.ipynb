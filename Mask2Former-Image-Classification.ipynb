{
 "cells": [
  {
   "cell_type": "code",
   "execution_count": 68,
   "id": "0e90295b",
   "metadata": {},
   "outputs": [],
   "source": [
    "from PIL import Image\n",
    "import numpy as np\n",
    "import torch\n",
    "import matplotlib.pyplot as plt\n",
    "from transformers import AutoImageProcessor, Mask2FormerForUniversalSegmentation"
   ]
  },
  {
   "cell_type": "code",
   "execution_count": 2,
   "id": "9f225290",
   "metadata": {},
   "outputs": [
    {
     "data": {
      "application/vnd.jupyter.widget-view+json": {
       "model_id": "374c40dc991b4b39aafa2dd4ef8e029b",
       "version_major": 2,
       "version_minor": 0
      },
      "text/plain": [
       "Downloading (…)rocessor_config.json:   0%|          | 0.00/538 [00:00<?, ?B/s]"
      ]
     },
     "metadata": {},
     "output_type": "display_data"
    },
    {
     "data": {
      "application/vnd.jupyter.widget-view+json": {
       "model_id": "b728d730eefb4c67a3ae2d6c4e121ee6",
       "version_major": 2,
       "version_minor": 0
      },
      "text/plain": [
       "Downloading (…)lve/main/config.json:   0%|          | 0.00/9.12k [00:00<?, ?B/s]"
      ]
     },
     "metadata": {},
     "output_type": "display_data"
    },
    {
     "data": {
      "application/vnd.jupyter.widget-view+json": {
       "model_id": "73dc00f1c7cc487abcbf17157b2cc7d5",
       "version_major": 2,
       "version_minor": 0
      },
      "text/plain": [
       "Downloading pytorch_model.bin:   0%|          | 0.00/432M [00:00<?, ?B/s]"
      ]
     },
     "metadata": {},
     "output_type": "display_data"
    }
   ],
   "source": [
    "processor = AutoImageProcessor.from_pretrained(\"facebook/mask2former-swin-base-coco-panoptic\")\n",
    "model = Mask2FormerForUniversalSegmentation.from_pretrained(\"facebook/mask2former-swin-base-coco-panoptic\")"
   ]
  },
  {
   "cell_type": "code",
   "execution_count": 3,
   "id": "3798b0ed",
   "metadata": {},
   "outputs": [],
   "source": [
    "image_path = \"/home/alper/Downloads/000000039769.jpg\"\n",
    "image = Image.open(image_path)"
   ]
  },
  {
   "cell_type": "code",
   "execution_count": 4,
   "id": "c4e98398",
   "metadata": {},
   "outputs": [],
   "source": [
    "inputs = processor(images=image, return_tensors=\"pt\")"
   ]
  },
  {
   "cell_type": "code",
   "execution_count": 7,
   "id": "38f09bb0",
   "metadata": {},
   "outputs": [],
   "source": [
    "with torch.no_grad():\n",
    "    outputs = model(**inputs)"
   ]
  },
  {
   "cell_type": "code",
   "execution_count": 30,
   "id": "06d581ca",
   "metadata": {},
   "outputs": [
    {
     "name": "stderr",
     "output_type": "stream",
     "text": [
      "`label_ids_to_fuse` unset. No instance will be fused.\n"
     ]
    }
   ],
   "source": [
    "results = processor.post_process_panoptic_segmentation(outputs, target_sizes=[image.size[::-1]])[0]"
   ]
  },
  {
   "cell_type": "code",
   "execution_count": 44,
   "id": "b84b43c3",
   "metadata": {},
   "outputs": [
    {
     "name": "stdout",
     "output_type": "stream",
     "text": [
      "{'id': 1, 'label_id': 15, 'was_fused': False, 'score': 0.998756}\n",
      "{'id': 2, 'label_id': 15, 'was_fused': False, 'score': 0.997873}\n",
      "{'id': 3, 'label_id': 65, 'was_fused': False, 'score': 0.997116}\n",
      "{'id': 4, 'label_id': 65, 'was_fused': False, 'score': 0.974273}\n",
      "{'id': 5, 'label_id': 57, 'was_fused': False, 'score': 0.956032}\n"
     ]
    }
   ],
   "source": [
    "for segment in results[\"segments_info\"]:\n",
    "    print(segment)"
   ]
  },
  {
   "cell_type": "code",
   "execution_count": 73,
   "id": "c21e149c",
   "metadata": {},
   "outputs": [
    {
     "name": "stdout",
     "output_type": "stream",
     "text": [
      "cat\n",
      "cat\n",
      "remote\n",
      "remote\n",
      "couch\n"
     ]
    }
   ],
   "source": [
    "for i in range(len(results[\"segments_info\"])):\n",
    "    print(model.config.id2label[results[\"segments_info\"][i][\"label_id\"]])\n",
    "    mask = (results[\"segmentation\"].numpy() == i)\n",
    "    mask = (mask * 255).astype(np.uint8)\n",
    "    masked_img = Image.fromarray(mask)\n",
    "    masked_img.show()"
   ]
  },
  {
   "cell_type": "code",
   "execution_count": null,
   "id": "edea07ae",
   "metadata": {},
   "outputs": [],
   "source": []
  }
 ],
 "metadata": {
  "kernelspec": {
   "display_name": "Python 3 (ipykernel)",
   "language": "python",
   "name": "python3"
  },
  "language_info": {
   "codemirror_mode": {
    "name": "ipython",
    "version": 3
   },
   "file_extension": ".py",
   "mimetype": "text/x-python",
   "name": "python",
   "nbconvert_exporter": "python",
   "pygments_lexer": "ipython3",
   "version": "3.11.2"
  }
 },
 "nbformat": 4,
 "nbformat_minor": 5
}
